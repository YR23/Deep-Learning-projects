{
  "cells": [
    {
      "metadata": {
        "id": "eg92YE7B6TQ4",
        "colab_type": "code",
        "outputId": "fd7b2909-78e9-4b4e-d23f-153b5154c82b",
        "colab": {
          "base_uri": "https://localhost:8080/",
          "height": 129
        },
        "trusted": true,
        "_uuid": "d820ce474cf65d7b64f807652607124939b2d83d"
      },
      "cell_type": "code",
      "source": "#Imports Cell\nimport numpy as np\nimport pandas as pd\nimport matplotlib.pyplot as plt\nfrom sklearn.model_selection import train_test_split\nfrom sklearn.preprocessing import StandardScaler\nfrom sklearn import preprocessing\nfrom sklearn.linear_model import LinearRegression\nfrom sklearn.metrics import mean_squared_error,mean_absolute_error\nfrom statsmodels.tsa.arima_model import ARIMA\nfrom IPython.display import SVG\nfrom keras.utils.vis_utils import model_to_dot\nimport timeit\nfrom math import floor\n\nimport keras\nfrom keras.layers import Dense\nfrom keras.models import Sequential\nfrom keras.utils import to_categorical\nfrom keras.utils import np_utils\nfrom keras.layers import LSTM,GRU\nfrom keras.layers import Dropout\nfrom keras.losses import mean_absolute_percentage_error\n\nimport os # accessing directory structure",
      "execution_count": null,
      "outputs": []
    },
    {
      "metadata": {
        "id": "6fg-QIEt-U1J",
        "colab_type": "code",
        "colab": {},
        "trusted": true,
        "_uuid": "3905677fa60d6f14643236412d3d98cba4df77d0"
      },
      "cell_type": "code",
      "source": "#Reading the file to dataframe\n#mountDrive()\ndef ReadAndParse():\n  #keep_date_col=True\n  df = pd.read_csv('../input/household_power_consumption.txt', sep=';', keep_date_col=True,\n                 parse_dates={'dt' : ['Date', 'Time']},infer_datetime_format=True, \n                 low_memory=False, na_values=['nan','?'], index_col='dt')\n  df2 = pd.read_csv('../input/household_power_consumption.txt', sep=';',na_values=['nan','?'])\n  #df[\"Time2\"] = pd.to_datetime(df['Date']+' '+df[\"Time\"])\n  \n  df = df.fillna(method='ffill')\n  df2 = df2.fillna(method='ffill')\n  df2.index = df.index\n  df2 = df2.drop('Voltage', 1)\n  df2['Date']=pd.to_datetime(df2['Date'], format=\"%d/%m/%Y\")\n  df2['Time']=pd.to_datetime(df2['Time'], format=\"%H:%M:%S\")\n  return df2\nwindow_size = 24\n",
      "execution_count": null,
      "outputs": []
    },
    {
      "metadata": {
        "id": "yF9N_IEjex6i",
        "colab_type": "text",
        "_uuid": "8380bbfe8a40c5bad0f3ed0c6d68cdbd0e8af88d"
      },
      "cell_type": "markdown",
      "source": "### **Data Exploration**"
    },
    {
      "metadata": {
        "id": "QECn1lI4A_ff",
        "colab_type": "code",
        "colab": {},
        "trusted": true,
        "_uuid": "d99424e0116622b957fd82793ce4da5f03e53c90"
      },
      "cell_type": "code",
      "source": "print(df.info())\nprint (\"\\nshape: \"+str(df.shape))\n\ndf.Global_active_power.resample('M').sum().plot(title='Global_active_power over month for sum', color = \"yellow\") \nplt.tight_layout()\nplt.show()   \n\ndf.Global_active_power.resample('M').mean().plot(title='Global_active_power over month for mean', color='red') \nplt.tight_layout()\nplt.show()\n\ndf['Global_active_power'].resample('Q').mean().plot(kind='bar',color=\"blue\")\nplt.xticks(rotation=60)\nplt.ylabel('Global_active_power')\nplt.title('Global_active_power per quarter (averaged over quarter)')\nplt.show()\n\ndf['Voltage'].resample('M').mean().plot(kind='bar', color='red')\nplt.xticks(rotation=60)\nplt.ylabel('Voltage')\nplt.title('Voltage per quarter (summed over quarter)')\nplt.show()\n\ncols = [0, 1, 2, 3, 5, 6]\ni = 1\ngroups=cols\nvalues = df.resample('D').mean().values\n# plot each column\nplt.figure(figsize=(15, 10))\nfor group in groups:\n\tplt.subplot(len(cols), 1, i)\n\tplt.plot(values[:, group])\n\tplt.title(df.columns[group], y=0.75, loc='right')\n\ti += 1\nplt.show()",
      "execution_count": null,
      "outputs": []
    },
    {
      "metadata": {
        "id": "MR3Pm4rvl2rf",
        "colab_type": "text",
        "_uuid": "f544a4375c6a14f21dae288091edcfe22d5cda4d"
      },
      "cell_type": "markdown",
      "source": "### **Pre Processingt**"
    },
    {
      "metadata": {
        "id": "ZV4RV6Tc8qic",
        "colab_type": "code",
        "colab": {},
        "trusted": true,
        "_uuid": "56fc8b787fd7a8ca9c18067bfd9518206c00444a"
      },
      "cell_type": "code",
      "source": "def pre_processing(df):\n  df['Date'] = df['Date'].apply(lambda x: x.month)\n  df['Time'] = df['Time'].apply(lambda x: x.hour)\n  df['Date']=df['Date'].astype('float64')\n  df['Time']=df['Time'].astype('float64')\n   \n  df_copy=df\n  df = (df - df.mean())/(df.std())\n  df['Global_active_power'] = df_copy['Global_active_power']\n  df = df.fillna(method='ffill')\n  df = df.resample(\"6min\").mean()\n  return df.values",
      "execution_count": null,
      "outputs": []
    },
    {
      "metadata": {
        "id": "cNQMqxG94MNI",
        "colab_type": "code",
        "outputId": "5d4d0c11-c43d-416d-8bf2-adac58f1bd0e",
        "colab": {
          "base_uri": "https://localhost:8080/",
          "height": 54
        },
        "trusted": true,
        "_uuid": "d2d5656243a67237f8ed0ffc9c9d7e4629344505"
      },
      "cell_type": "code",
      "source": "time_foward = 240\nunits=10\nstart = timeit.default_timer()\ndf = ReadAndParse()\ndf = pre_processing(df)\nstop = timeit.default_timer()\nprint(\"shape \"+ str(df.shape))\nprint('Time: ', stop - start)",
      "execution_count": null,
      "outputs": []
    },
    {
      "metadata": {
        "trusted": true,
        "_uuid": "8464eab595a4879a1f56f7d204bc8e92f1039f85"
      },
      "cell_type": "code",
      "source": "def CreateWindow():\n  size = len(df)\n  size2 = (floor((size-window_size)/10))-45\n  print(size2)\n  xy = np.zeros((size2, window_size,units*df.shape[1]))\n  for i in range(0,size-window_size,10):\n    xy2 = np.zeros((window_size,units*df.shape[1]))\n    for j in range(window_size):\n        df_temp = df[i+j:i+j+units,:]\n        xy2[j,:] = df_temp.ravel()    \n    if (floor(i/10)>size2-1):\n        break\n    xy[floor(i/10),:,:]=xy2\n  return xy;\nstart = timeit.default_timer()\nx = CreateWindow()\nstop = timeit.default_timer()\nprint(\"shape \"+ str(x.shape))\nprint('Time: ', stop - start)",
      "execution_count": null,
      "outputs": []
    },
    {
      "metadata": {
        "id": "vGwu-eGgaB9c",
        "colab_type": "code",
        "outputId": "4e369c6e-e5a9-4d77-8163-89e16d397730",
        "colab": {
          "base_uri": "https://localhost:8080/",
          "height": 54
        },
        "trusted": true,
        "_uuid": "7d69cff86fd06104823d88dcc90308d8c89e4406"
      },
      "cell_type": "code",
      "source": "def CreatePreds():\n  preds = df.iloc[49:, :]\n  preds =  preds[\"Global_active_power\"].values\n  return preds\n\ndf = ReadAndParse()\ndf = df.resample(\"H\").mean()\npreds = CreatePreds()\nprint (\"x.shape: \"+str(x.shape))\nprint (\"preds.shape: \"+str(preds.shape))",
      "execution_count": null,
      "outputs": []
    },
    {
      "metadata": {
        "id": "4_m4uMIhS8GC",
        "colab_type": "text",
        "_uuid": "c6e48895ee052ffeb829b1395599879950396b12"
      },
      "cell_type": "markdown",
      "source": "### **k-fold Cross validation**"
    },
    {
      "metadata": {
        "id": "PnPg4fweS7bZ",
        "colab_type": "code",
        "colab": {},
        "trusted": true,
        "_uuid": "dd695266fbf878b051b069b5b980ce37889dffe6"
      },
      "cell_type": "code",
      "source": "def CreateKfold1():\n  fold1a = 0\n  #fold1\n  f_train_x = train_x[:third*2-window_size, :]\n  f_train_y = train_y[:third*2-window_size]\n  f_test_x = train_x[third*2+window_size:, :]\n  f_test_y = train_y[third*2+window_size:]\n  fold1a = [f_train_x, f_train_y,f_test_x,f_test_y]\n  return fold1a\n\ndef CreateKfold2():\n  fold2a = 0\n  #fold2\n  f_train_x = train_x[third+window_size:, :]\n  f_train_y = train_y[third+window_size:]\n  f_test_x = train_x[:third-window_size, :]\n  f_test_y = train_y[:third-window_size]\n  fold2a = [f_train_x, f_train_y,f_test_x,f_test_y]\n  return fold2a\n\ndef CreateKfold3():\n  fold3a = 0\n  #fold3\n  #parta\n  f_train_x_parta = train_x[:third-window_size, :]\n  f_train_y_parta = train_y[:third-window_size]\n  f_test_x = train_x[third + window_size: third*2 - window_size, :]\n  f_test_y = train_y[third + window_size: third*2 - window_size]\n  #partb\n  f_train_x_partb = train_x[third*2+window_size:, :]\n  f_train_y_partb = train_y[third*2+window_size:]\n  #conc\n  f_train_x = np.concatenate((f_train_x_parta,f_train_x_partb), axis=0)\n  f_train_y = np.concatenate((f_train_y_parta,f_train_y_partb), axis=0)\n  fold3a = [f_train_x, f_train_y,f_test_x,f_test_y]\n  return fold3a\ndef Create3Folds():\n    fold1 = CreateKfold1()\n    fold2 = CreateKfold2()\n    fold3 = CreateKfold3()\n    return fold1,fold2,fold3",
      "execution_count": null,
      "outputs": []
    },
    {
      "metadata": {
        "id": "vuBSWz04l53A",
        "colab_type": "text",
        "_uuid": "8c3993c3be446abb516cb8214491b51bf0f6c2ec"
      },
      "cell_type": "markdown",
      "source": "### **Train-Test Split**"
    },
    {
      "metadata": {
        "id": "erSpYjZPe1cb",
        "colab_type": "code",
        "outputId": "2c9e3405-4cfc-4d8c-d757-9e65aab47e2d",
        "colab": {
          "base_uri": "https://localhost:8080/",
          "height": 54
        },
        "trusted": true,
        "_uuid": "285b32362a6d79d87806062267e4552acb6df01c"
      },
      "cell_type": "code",
      "source": "# minutes per hour * hours per day * days per week\n# weeks per year * 3 years of training\nprint(len(x))\nn_train_time = floor(len(x)*0.8)\ntrain_x = x[floor(len(x)*0.25):n_train_time-window_size, :]\ntest_x = x[n_train_time+window_size:, :]\ntrain_y = preds[floor(len(x)*0.25):n_train_time-window_size]\ntest_y = preds[n_train_time+window_size:]\nprint (train_x.shape, train_y.shape, test_x.shape, test_y.shape)\nthird = floor(train_x.shape[0]/3);\nfold1,fold2,fold3 = Create3Folds()\nnb_epochs=10;",
      "execution_count": null,
      "outputs": []
    },
    {
      "metadata": {
        "id": "wDteyRViC47H",
        "colab_type": "text",
        "_uuid": "f7aa0743dc49275f7ad03d2a181d5449cc273ec2"
      },
      "cell_type": "markdown",
      "source": "### **Navie BaseLine**"
    },
    {
      "metadata": {
        "id": "YTmFRM63C11k",
        "colab_type": "code",
        "outputId": "ce6868e8-5822-4f3c-ec0f-3e88c2b9e48c",
        "colab": {
          "base_uri": "https://localhost:8080/",
          "height": 383
        },
        "trusted": true,
        "_uuid": "4aedbd6da51396603bc8121c8c45fcd506f19ab8"
      },
      "cell_type": "code",
      "source": "mean_Global_active_power = preds.mean()\nyhat = np.full(test_y.shape,mean_Global_active_power)\nrmse = np.sqrt(mean_squared_error(yhat, test_y))\nMAE = mean_absolute_error(yhat, test_y)\nprint('Test RMSE: %.3f' % rmse)\nprint('Test MAE: %.3f' % MAE)\naa=[x for x in range(200)]\nplt.plot(aa, test_y[:200], marker='.', label=\"actual\")\nplt.plot(aa, yhat[:200], 'r', label=\"prediction\")\nplt.ylabel('Global_active_power', size=15)\nplt.xlabel('Time step', size=15)\nplt.legend(fontsize=15)\nplt.show()",
      "execution_count": null,
      "outputs": []
    },
    {
      "metadata": {
        "id": "mNaHWeOhs1mC",
        "colab_type": "text",
        "_uuid": "e68f3759a27b4253dc9079f2ba43aa495c774fcc"
      },
      "cell_type": "markdown",
      "source": "### **Logistic Regression**"
    },
    {
      "metadata": {
        "id": "pYB0tJgSs06j",
        "colab_type": "code",
        "colab": {},
        "trusted": true,
        "_uuid": "301b53b7d64940392399e35feb33348ee801cee5"
      },
      "cell_type": "code",
      "source": "#train_X.shape, train_y.shape, test_X.shape, test_y.shape\ntrain_x_lr = train_x.reshape((train_x.shape[0],train_x.shape[1]*train_x.shape[2]))\ntest_x_lr = test_x.reshape((test_x.shape[0],train_x.shape[1]*train_x.shape[2]))\nlogreg = LinearRegression()\nlogreg.fit(train_x_lr, train_y)",
      "execution_count": null,
      "outputs": []
    },
    {
      "metadata": {
        "trusted": true,
        "_uuid": "162e4390dcd8f7f1afc44ab9cb12fb9e88358cf5"
      },
      "cell_type": "code",
      "source": "y_pred = logreg.predict(test_x_lr)\nrmse = np.sqrt(mean_squared_error(y_pred, test_y))\nMAE = mean_absolute_error(y_pred, test_y)\nprint('LL RMSE: %.3f' % rmse)\nprint('LL MAE: %.3f' % MAE)\naa=[x for x in range(200)]\nplt.plot(aa, test_y[:200], marker='.', label=\"actual\")\nplt.plot(aa, y_pred[:200], 'r', label=\"prediction\")\nplt.ylabel('Global_active_power', size=15)\nplt.xlabel('Time step', size=15)\nplt.legend(fontsize=10)\nplt.show()",
      "execution_count": null,
      "outputs": []
    },
    {
      "metadata": {
        "id": "-8Fy66tJ0-u3",
        "colab_type": "text",
        "_uuid": "7da62dd85819c384a291b1c0198922ee1ff605ac"
      },
      "cell_type": "markdown",
      "source": "### **NN model**"
    },
    {
      "metadata": {
        "id": "V20cux0t0-9a",
        "colab_type": "code",
        "outputId": "2d863e71-db80-4f48-8b00-76381da6363f",
        "colab": {
          "base_uri": "https://localhost:8080/",
          "height": 424
        },
        "trusted": true,
        "_uuid": "765c2d221964b4857dd35d3098d89dd5c1c10732",
        "scrolled": true
      },
      "cell_type": "code",
      "source": "#fold1,fold2,fold3\nmodel = Sequential()\nmodel.add(LSTM(1, input_shape=(fold1[0].shape[1], fold1[0].shape[2])))\nmodel.add(Dense(1))\nmodel.compile(loss='mean_squared_error', optimizer='adam')\nmodel.summary()\nhistory = model.fit(fold1[0], fold1[1], epochs=15,shuffle=True, batch_size=5000, verbose=1,validation_data=(fold1[2],fold1[3]))\ny_pred = model.predict(test_x,batch_size=5000)\nrmse1 = np.sqrt(mean_squared_error(y_pred, test_y))\nMAE1 = mean_absolute_error(y_pred, test_y)\nprint('Test RMSE: %.3f' % rmse1)\nprint('Test MAE: %.3f' % MAE1)\nplt.plot(history.history['loss'])\nplt.plot(history.history['val_loss'])\nplt.title('model loss')\nplt.ylabel('loss')\nplt.xlabel('epoch')\nplt.legend(['train', 'test'], loc='upper right')\nplt.show()\naa=[x for x in range(500)]\nplt.plot(aa, test_y[:500], marker='.', label=\"actual\")\nplt.plot(aa, y_pred[:500], 'r', label=\"prediction\")\nplt.ylabel('Global_active_power', size=15)\nplt.xlabel('Time step', size=15)\nplt.legend(fontsize=15)\nplt.show()",
      "execution_count": null,
      "outputs": []
    },
    {
      "metadata": {
        "trusted": true,
        "_uuid": "efe859f369fceeadebefd707dd9857defa4b3a2a"
      },
      "cell_type": "code",
      "source": "#fold1,fold2,fold3\nmodel2 = Sequential()\nmodel2.add(LSTM(1, input_shape=(fold2[0].shape[1], fold2[0].shape[2])))\nmodel2.add(Dense(1))\nmodel2.compile(loss='mean_squared_error', optimizer='adam')\nmodel2.summary()\nhistory2 = model2.fit(fold2[0], fold2[1], epochs=15,shuffle=True, batch_size=5000, verbose=1,validation_data=(fold2[2],fold2[3]))\ny_pred = model2.predict(test_x,batch_size=5000)\nrmse2 = np.sqrt(mean_squared_error(y_pred, test_y))\nMAE2 = mean_absolute_error(y_pred, test_y)\nprint('Test RMSE: %.3f' % rmse2)\nprint('Test MAE: %.3f' % MAE2)\nplt.plot(history2.history['loss'])\nplt.plot(history2.history['val_loss'])\nplt.title('model loss')\nplt.ylabel('loss')\nplt.xlabel('epoch')\nplt.legend(['train', 'test'], loc='upper right')\nplt.show()\naa=[x for x in range(500)]\nplt.plot(aa, test_y[:500], marker='.', label=\"actual\")\nplt.plot(aa, y_pred[:500], 'r', label=\"prediction\")\nplt.ylabel('Global_active_power', size=15)\nplt.xlabel('Time step', size=15)\nplt.legend(fontsize=15)\nplt.show()",
      "execution_count": null,
      "outputs": []
    },
    {
      "metadata": {
        "trusted": true,
        "_uuid": "fdd31319c0b5216f8bae4d775ba9d36117255d99"
      },
      "cell_type": "code",
      "source": "#fold1,fold2,fold3\nmodel3 = Sequential()\nmodel3.add(LSTM(1, input_shape=(fold3[0].shape[1], fold3[0].shape[2])))\nmodel3.add(Dense(1))\nmodel3.compile(loss='mean_squared_error', optimizer='adam')\nmodel3.summary()\nhistory3 = model3.fit(fold3[0], fold3[1], epochs=15,shuffle=True, batch_size=5000, verbose=1,validation_data=(fold3[2],fold3[3]))\ny_pred = model3.predict(test_x,batch_size=5000)\nrmse3 = np.sqrt(mean_squared_error(y_pred, test_y))\nMAE3 = mean_absolute_error(y_pred, test_y)\nprint('Test RMSE: %.3f' % rmse3)\nprint('Test MAE: %.3f' % MAE3)\nplt.plot(history3.history['loss'])\nplt.plot(history3.history['val_loss'])\nplt.title('model loss')\nplt.ylabel('loss')\nplt.xlabel('epoch')\nplt.legend(['train', 'test'], loc='upper right')\nplt.show()\naa=[x for x in range(500)]\nplt.plot(aa, test_y[:500], marker='.', label=\"actual\")\nplt.plot(aa, y_pred[:500], 'r', label=\"prediction\")\nplt.ylabel('Global_active_power', size=15)\nplt.xlabel('Time step', size=15)\nplt.legend(fontsize=15)\nplt.show()",
      "execution_count": null,
      "outputs": []
    },
    {
      "metadata": {
        "trusted": true,
        "_uuid": "067dd64be669c01c0625971fde39de42d5939e64"
      },
      "cell_type": "code",
      "source": "rmse_avg = (rmse1+rmse2+rmse3)/3\nprint(\"RMSE avg for all 3 folds \"+str(rmse_avg))\nmae_avg = (MAE1+MAE2+MAE3)/3\nprint(\"MAE avg for all 3 folds \"+str(mae_avg))",
      "execution_count": null,
      "outputs": []
    },
    {
      "metadata": {
        "id": "tybnliy41dRC",
        "colab_type": "code",
        "colab": {},
        "trusted": true,
        "_uuid": "a9289476ea2ccc26c3b43f28fd3552eafac05fc8",
        "scrolled": true
      },
      "cell_type": "code",
      "source": "model4 = Sequential()\nmodel4.add(LSTM(1,activation=None,return_sequences=True,input_shape=(train_x.shape[1],train_x.shape[2])))\nmodel4.add(LSTM(1,activation=None,input_shape=(train_x.shape[1],1)))\nmodel4.add(Dense(1))\nmodel4.compile(loss='mean_squared_error', optimizer='adam')\nmodel4.summary()\nhistory4 = model4.fit(train_x, train_y, epochs=nb_epochs,shuffle=True, verbose=1,validation_data=(test_x,test_y))\ny_pred = model4.predict(test_x,batch_size=5000)",
      "execution_count": null,
      "outputs": []
    },
    {
      "metadata": {
        "trusted": true,
        "_uuid": "62b7f65099cf675c14f8c61d88b67e6932cdd8b0",
        "scrolled": true
      },
      "cell_type": "code",
      "source": "rmse = np.sqrt(mean_squared_error(y_pred, test_y))\nMAE = mean_absolute_error(y_pred, test_y)\nprint('Model 4 RMSE: %.3f' % rmse)\nprint('Model 4 MAE: %.3f' % MAE)\nplt.plot(history4.history['loss'])\nplt.plot(history4.history['val_loss'])\nplt.title('model loss')\nplt.ylabel('loss')\nplt.xlabel('epoch')\nplt.legend(['train', 'test'], loc='upper right')\nplt.show()\naa=[x for x in range(200)]\nplt.plot(aa, test_y[:200], marker='.', label=\"actual\")\nplt.plot(aa, y_pred[:200], 'r', label=\"prediction\")\nplt.ylabel('Global_active_power', size=15)\nplt.xlabel('Time step', size=15)\nplt.legend(fontsize=10)\nplt.show()",
      "execution_count": null,
      "outputs": []
    },
    {
      "metadata": {
        "trusted": true,
        "_uuid": "c8789afd318236d22322b7f3db5a95b7ab9ed3a4"
      },
      "cell_type": "code",
      "source": "",
      "execution_count": null,
      "outputs": []
    }
  ],
  "metadata": {
    "colab": {
      "name": "Time Series.ipynb",
      "version": "0.3.2",
      "provenance": [],
      "collapsed_sections": []
    },
    "kernelspec": {
      "display_name": "Python 3",
      "language": "python",
      "name": "python3"
    },
    "accelerator": "GPU",
    "language_info": {
      "name": "python",
      "version": "3.6.6",
      "mimetype": "text/x-python",
      "codemirror_mode": {
        "name": "ipython",
        "version": 3
      },
      "pygments_lexer": "ipython3",
      "nbconvert_exporter": "python",
      "file_extension": ".py"
    }
  },
  "nbformat": 4,
  "nbformat_minor": 1
}